{
 "cells": [
  {
   "cell_type": "code",
   "execution_count": 4,
   "metadata": {},
   "outputs": [
    {
     "name": "stdin",
     "output_type": "stream",
     "text": [
      "Pls Enter your first name:  JOSEPH    \n"
     ]
    },
    {
     "name": "stdout",
     "output_type": "stream",
     "text": [
      "Hello, Joseph! The password is W@12\n"
     ]
    }
   ],
   "source": [
    "password = \"W@12\"\n",
    "name = \"Joseph\"\n",
    "name_input = input(\"Pls Enter your first name: \").title().strip()\n",
    "\n",
    "if name_input == name:\n",
    "    print(f\"Hello, {name}! The password is {password}\")\n",
    "else:\n",
    "    print(\"Hello, I don't recognize you! See you later.\")"
   ]
  },
  {
   "cell_type": "code",
   "execution_count": null,
   "metadata": {},
   "outputs": [],
   "source": []
  }
 ],
 "metadata": {
  "kernelspec": {
   "display_name": "Python 3.8.3 64-bit",
   "language": "python",
   "name": "python38364bita01b2adcf8884067a193b608e3f34ff1"
  },
  "language_info": {
   "codemirror_mode": {
    "name": "ipython",
    "version": 3
   },
   "file_extension": ".py",
   "mimetype": "text/x-python",
   "name": "python",
   "nbconvert_exporter": "python",
   "pygments_lexer": "ipython3",
   "version": "3.8.3"
  }
 },
 "nbformat": 4,
 "nbformat_minor": 4
}
